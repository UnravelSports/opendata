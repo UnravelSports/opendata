{
 "cells": [
  {
   "cell_type": "markdown",
   "id": "e1fa619e",
   "metadata": {},
   "source": [
    "## Getting Started "
   ]
  },
  {
   "cell_type": "markdown",
   "id": "370110fa",
   "metadata": {},
   "source": [
    "[Kloppy](https://kloppy.pysport.org/) is _the_ industry standard open-source soccer data standardization package used by clubs in the English Premier League, Italian Seria A, La Liga, German BundesLiga, Major League Soccer, Dutch Eredivisie etc etc. It is used to standardize data from different data providers into a single format.\n",
    "\n",
    "We can use Kloppy to directly load data from GitHub (see below)."
   ]
  },
  {
   "cell_type": "markdown",
   "id": "5adf3751",
   "metadata": {},
   "source": [
    "### Before we get started:\n",
    "- Download Python3.11+ if you don't have it already.\n",
    "- Make a virtual environment to store and install all the Python packages related to this project.\n",
    "- Activate the virtual environment (select it as a Kernel for this Jupyter Notebook)\n",
    "- [Install Kloppy](https://kloppy.pysport.org/user-guide/installation/) (`pip install kloppy`) into the virtual environment\n",
    "\n",
    "---\n",
    "\n",
    "### Kloppy\n",
    "\n",
    "Now we can load our tracking data directly from GitHub."
   ]
  },
  {
   "cell_type": "code",
   "id": "eb91b6d1",
   "metadata": {
    "ExecuteTime": {
     "end_time": "2025-10-07T16:56:15.604341Z",
     "start_time": "2025-10-07T16:56:14.616507Z"
    }
   },
   "source": [
    "# ! pip install kloppy\n",
    "from kloppy import skillcorner\n",
    "\n",
    "match_id=1886347\n",
    "tracking_data_github_url=f'https://media.githubusercontent.com/media/SkillCorner/opendata/741bdb798b0c1835057e3fa77244c1571a00e4aa/data/matches/{match_id}/{match_id}_tracking_extrapolated.jsonl'\n",
    "meta_data_github_url=f'https://raw.githubusercontent.com/SkillCorner/opendata/741bdb798b0c1835057e3fa77244c1571a00e4aa/data/matches/{match_id}/{match_id}_match.json'\n",
    "\n",
    "dataset = skillcorner.load(\n",
    "    meta_data=meta_data_github_url,\n",
    "    raw_data=tracking_data_github_url,\n",
    "    # Optional Parameters\n",
    "    coordinates = \"skillcorner\",  # or specify a different coordinate system\n",
    "    sample_rate = (1/2),  # changes the data from 10fps to 5fps\n",
    "    limit = 100 # only load the first 100 frames\n",
    ")"
   ],
   "outputs": [],
   "execution_count": 6
  },
  {
   "cell_type": "markdown",
   "id": "7cf90dc4",
   "metadata": {},
   "source": [
    "### Basic Kloppy Operations\n",
    "\n",
    "- Transform the coordinate system such that all attacks happen from left to right\n",
    "- Filter out only the first half\n",
    "- Output to [Polars](https://pola.rs/) dataframe"
   ]
  },
  {
   "cell_type": "code",
   "id": "50585a47",
   "metadata": {
    "ExecuteTime": {
     "end_time": "2025-10-07T16:59:37.341269Z",
     "start_time": "2025-10-07T16:59:37.278814Z"
    }
   },
   "source": [
    "df = (\n",
    "    dataset\n",
    "    .transform(to_orientation=\"BALL_OWNING_TEAM\")  # Now, all attacks happen from left to right\n",
    "    .filter(lambda frame: frame.period.id == 1)  # Only keep frames from the first half\n",
    "    .to_df(engine=\"polars\") # Convert to a Polars DataFrame, or use engine=\"pandas\" for a Pandas DataFrame\n",
    ")"
   ],
   "outputs": [],
   "execution_count": 11
  },
  {
   "cell_type": "code",
   "id": "defa8d83",
   "metadata": {
    "ExecuteTime": {
     "end_time": "2025-10-07T16:56:41.901750Z",
     "start_time": "2025-10-07T16:56:41.898156Z"
    }
   },
   "source": [
    "home_team, away_team = dataset.metadata.teams\n",
    "\n",
    "for player in home_team.players:\n",
    "    print(f\"{player.jersey_no} - {player.name}\")"
   ],
   "outputs": [
    {
     "name": "stdout",
     "output_type": "stream",
     "text": [
      "10 - Guillermo Luis May Bartesaghi\n",
      "17 - Callan Elliot\n",
      "22 - Jake Brimmer\n",
      "15 - Francis De Vries\n",
      "4 - Nando Pijnaker\n",
      "23 - Daniel Hall\n",
      "6 - Louis Verstraete\n",
      "14 - Liam  Gillion\n",
      "25 - Neyder Stiven Moreno Betancur\n",
      "5 - Tommy Smith\n",
      "9 - Max Mata\n",
      "27 - Logan Rogerson\n",
      "28 - Luis Felipe Gallegos Leiva\n",
      "3 - Scott Galloway\n",
      "1 - Michael Woud\n",
      "8 - Luis Toomey\n",
      "7 - Cameron Drew Howieson\n",
      "12 - Alex Noah Paulsen\n"
     ]
    }
   ],
   "execution_count": 8
  },
  {
   "cell_type": "markdown",
   "id": "71805006",
   "metadata": {},
   "source": [
    "### Basic Kloppy Functionalities\n",
    "- [TrackingDataset](https://kloppy.pysport.org/user-guide/concepts/tracking-data/)\n",
    "- [Metadata (players, team names etc.)](https://kloppy.pysport.org/user-guide/concepts/metadata/)\n",
    "- [Coordinate Systems](https://kloppy.pysport.org/user-guide/concepts/coordinates/#built-in-coordinate-systems)\n",
    "- [Transformations](https://kloppy.pysport.org/user-guide/transformations/coordinates/)\n",
    "- [Filter](https://kloppy.pysport.org/user-guide/getting-started/#filtering-data)\n",
    "- [Exporting to pandas / polars DataFrames](https://kloppy.pysport.org/user-guide/exporting-data/dataframes/)"
   ]
  },
  {
   "cell_type": "markdown",
   "id": "1e268c67",
   "metadata": {},
   "source": [
    "### Plotting\n",
    "\n",
    "Use `mplsoccer` and `matplotlib` to plot some different configurations of tracking data.\n",
    "\n",
    "See [Plotting Examples](https://kloppy.pysport.org/user-guide/getting-started/#exec-51--__tabbed_1_2)"
   ]
  }
 ],
 "metadata": {
  "language_info": {
   "name": "python"
  },
  "kernelspec": {
   "name": "python3",
   "language": "python",
   "display_name": "Python 3 (ipykernel)"
  }
 },
 "nbformat": 4,
 "nbformat_minor": 5
}
