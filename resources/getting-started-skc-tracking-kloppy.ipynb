{
 "cells": [
  {
   "cell_type": "markdown",
   "id": "e1fa619e",
   "metadata": {},
   "source": [
    "## Getting Started "
   ]
  },
  {
   "cell_type": "markdown",
   "id": "370110fa",
   "metadata": {},
   "source": [
    "[Kloppy](https://kloppy.pysport.org/) by [PySport](https://pysport.org/) is _the_ industry standard open-source fooball data standardization package. Kloppy simplifies football data processing by offering a single place to [**load**](https://kloppy.pysport.org/user-guide/loading-data/skillcorner/), [**filter**](https://kloppy.pysport.org/user-guide/getting-started/#filtering-data), [**transform**](https://kloppy.pysport.org/user-guide/transformations/coordinates/) and [**export**](https://kloppy.pysport.org/user-guide/exporting-data/) your football data in a standardized way. \n",
    "\n",
    "We can use Kloppy to directly load data from GitHub (see below)."
   ]
  },
  {
   "cell_type": "markdown",
   "id": "5adf3751",
   "metadata": {},
   "source": [
    "---\n",
    "\n",
    "### Before we get started:\n",
    "- Download Python3.11+ if you don't have it already.\n",
    "- Make a virtual environment to store and install all the Python packages related to this project.\n",
    "- Activate the virtual environment (select it as a Kernel for this Jupyter Notebook)\n",
    "- [Install Kloppy](https://kloppy.pysport.org/user-guide/installation/) (`pip install kloppy`) into the virtual environment\n",
    "\n",
    "---\n",
    "\n",
    "### Kloppy\n",
    "\n",
    "Using Kloppy we can now easily load the tracking data directly from GitHub using the URL to the raw files.\n"
   ]
  },
  {
   "cell_type": "code",
   "execution_count": 1,
   "id": "eb91b6d1",
   "metadata": {
    "ExecuteTime": {
     "end_time": "2025-10-07T16:56:15.604341Z",
     "start_time": "2025-10-07T16:56:14.616507Z"
    }
   },
   "outputs": [],
   "source": [
    "from kloppy import skillcorner\n",
    "\n",
    "match_id = 1886347\n",
    "\n",
    "tracking_data_github_url = f\"https://media.githubusercontent.com/media/SkillCorner/opendata/master/data/matches/{match_id}/{match_id}_tracking_extrapolated.jsonl\"\n",
    "meta_data_github_url = f\"https://raw.githubusercontent.com/SkillCorner/opendata/master/data/matches/{match_id}/{match_id}_match.json\"\n",
    "\n",
    "dataset = skillcorner.load(\n",
    "    meta_data=meta_data_github_url,\n",
    "    raw_data=tracking_data_github_url,\n",
    "    # Optional Parameters\n",
    "    coordinates=\"skillcorner\",  # or specify a different coordinate system\n",
    "    sample_rate=(1 / 2),  # changes the data from 10fps to 5fps\n",
    "    limit=100,  # only load the first 100 frames\n",
    ")"
   ]
  },
  {
   "cell_type": "markdown",
   "id": "7cf90dc4",
   "metadata": {},
   "source": [
    "### Basic Kloppy Operations\n",
    "\n",
    "Kloppy has many built in fuctionalities, below is a basic example to:\n",
    "- Transform the coordinate system such that the home team attack from left to right both periods\n",
    "- Filter out only the first half\n",
    "- Output to [Polars](https://pola.rs/) dataframe. You can also output to `\"pandas\"`"
   ]
  },
  {
   "cell_type": "code",
   "execution_count": 6,
   "id": "50585a47",
   "metadata": {
    "ExecuteTime": {
     "end_time": "2025-10-07T16:59:37.341269Z",
     "start_time": "2025-10-07T16:59:37.278814Z"
    }
   },
   "outputs": [],
   "source": [
    "df = (\n",
    "    dataset.transform(\n",
    "        to_orientation=\"STATIC_HOME_AWAY\"\n",
    "    )  # Now, all attacks happen from left to right\n",
    "    .filter(lambda frame: frame.period.id == 1)  # Only keep frames from the first half\n",
    "    .to_df(\n",
    "        engine=\"polars\"\n",
    "    )  # Convert to a Polars DataFrame, or use engine=\"pandas\" for a Pandas DataFrame\n",
    ")"
   ]
  },
  {
   "cell_type": "markdown",
   "id": "c69b6bc1",
   "metadata": {},
   "source": [
    "---\n",
    "\n",
    "### Metadata\n",
    "\n",
    "Kloppy also stores all relevant [**Metadata**](https://kloppy.pysport.org/user-guide/concepts/metadata/) which you can use to easily obtain player names, jersey numbers, playing positions etc."
   ]
  },
  {
   "cell_type": "code",
   "execution_count": 8,
   "id": "defa8d83",
   "metadata": {
    "ExecuteTime": {
     "end_time": "2025-10-07T16:56:41.901750Z",
     "start_time": "2025-10-07T16:56:41.898156Z"
    }
   },
   "outputs": [
    {
     "name": "stdout",
     "output_type": "stream",
     "text": [
      "10 - Guillermo Luis May Bartesaghi - Striker\n",
      "17 - Callan Elliot - Unknown\n",
      "22 - Jake Brimmer - Striker\n",
      "15 - Francis De Vries - Unknown\n",
      "4 - Nando Pijnaker - Left Center Back\n",
      "23 - Daniel Hall - Right Center Back\n",
      "6 - Louis Verstraete - Defensive Midfield\n",
      "14 - Liam  Gillion - Left Wing\n",
      "25 - Neyder Stiven Moreno Betancur - Right Wing\n",
      "5 - Tommy Smith - Center Back\n",
      "9 - Max Mata - Striker\n",
      "27 - Logan Rogerson - Right Wing\n",
      "28 - Luis Felipe Gallegos Leiva - Attacking Midfield\n",
      "3 - Scott Galloway - Unknown\n",
      "1 - Michael Woud - Unknown\n",
      "8 - Luis Toomey - Unknown\n",
      "7 - Cameron Drew Howieson - Unknown\n",
      "12 - Alex Noah Paulsen - Unknown\n"
     ]
    }
   ],
   "source": [
    "home_team, away_team = dataset.metadata.teams\n",
    "\n",
    "for player in home_team.players:\n",
    "    print(f\"{player.jersey_no} - {player.name} - {player.starting_position}\")"
   ]
  },
  {
   "cell_type": "markdown",
   "id": "71805006",
   "metadata": {},
   "source": [
    "---\n",
    "\n",
    "### Basic Kloppy Functionalities\n",
    "\n",
    "Below is a non-exhaustive list of other Kloppy functionalities.\n",
    "\n",
    "- [TrackingDataset](https://kloppy.pysport.org/user-guide/concepts/tracking-data/)\n",
    "- [Metadata (players, team names etc.)](https://kloppy.pysport.org/user-guide/concepts/metadata/)\n",
    "- [Coordinate Systems](https://kloppy.pysport.org/user-guide/concepts/coordinates/#built-in-coordinate-systems)\n",
    "- [Transformations](https://kloppy.pysport.org/user-guide/transformations/coordinates/)\n",
    "- [Filter](https://kloppy.pysport.org/user-guide/getting-started/#filtering-data)\n",
    "- [Exporting to pandas / polars DataFrames](https://kloppy.pysport.org/user-guide/exporting-data/dataframes/)"
   ]
  },
  {
   "cell_type": "markdown",
   "id": "1e268c67",
   "metadata": {},
   "source": [
    "---\n",
    "\n",
    "### Plotting\n",
    "\n",
    "For quick and easy plotting check out :\n",
    "- [`mplsoccer`](https://mplsoccer.readthedocs.io/en/latest/) and `matplotlib` to plot some different configurations of tracking data.\n",
    "- [`soccer-d3`](https://github.com/probberechts/d3-soccer)\n",
    "- And check out [Kloppy's Plotting Examples](https://kloppy.pysport.org/user-guide/getting-started/#exec-51--__tabbed_1_2)\n",
    "\n",
    "---\n",
    "\n",
    "### Other Open-Source Resources for Positional Tracking Data\n",
    "- [floodlight](https://floodlight.readthedocs.io/en/latest/)\n",
    "- [databallpy](https://databallpy.readthedocs.io/en/latest/?badge=latest)\n",
    "- [Hyunsung Kim @ KAIST](https://github.com/hyunsungkim-ds)\n",
    "- [Friends of Tracking](https://github.com/Friends-of-Tracking-Data-FoTD)\n",
    "- [unravelsports](https://github.com/UnravelSports/UnravelSports)\n",
    "\n",
    "---\n",
    "\n",
    "### Ohter Open-Source Football Analytics Resources\n",
    "- [socceraction](https://socceraction.readthedocs.io/en/latest/)\n",
    "- [Footballdata](https://Footballdata.readthedocs.io/en/latest/)\n",
    "- [ETSY](https://github.com/ML-KULeuven/ETSY) \n",
    "- [soccer-xg](https://github.com/ML-KULeuven/soccer_xg)\n",
    "- [OpenSTARLab](https://openstarlab.readthedocs.io/en/latest/)\n",
    "- [Soccer Analytics Handbook](https://github.com/devinpleuler/analytics-handbook)\n",
    "- [penaltyblog](https://pypi.org/project/penaltyblog/)\n"
   ]
  },
  {
   "cell_type": "markdown",
   "id": "a9a9a192",
   "metadata": {},
   "source": []
  }
 ],
 "metadata": {
  "kernelspec": {
   "display_name": "venv",
   "language": "python",
   "name": "python3"
  },
  "language_info": {
   "codemirror_mode": {
    "name": "ipython",
    "version": 3
   },
   "file_extension": ".py",
   "mimetype": "text/x-python",
   "name": "python",
   "nbconvert_exporter": "python",
   "pygments_lexer": "ipython3",
   "version": "3.11.11"
  }
 },
 "nbformat": 4,
 "nbformat_minor": 5
}
